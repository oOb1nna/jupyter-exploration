{
 "cells": [
  {
   "cell_type": "markdown",
   "id": "80544705-5d9c-42d0-b5d8-4096c6ad7a2a",
   "metadata": {},
   "source": [
    "My first markdown cell in Jupyter"
   ]
  },
  {
   "cell_type": "code",
   "execution_count": 5,
   "id": "23614d94-c6a7-4029-b3ae-700aa8163e27",
   "metadata": {},
   "outputs": [
    {
     "name": "stdout",
     "output_type": "stream",
     "text": [
      "Hello world!\n"
     ]
    }
   ],
   "source": [
    "print('Hello world!')"
   ]
  },
  {
   "cell_type": "code",
   "execution_count": null,
   "id": "3eefb767-ad73-41aa-9788-aeaa655b021c",
   "metadata": {},
   "outputs": [],
   "source": []
  }
 ],
 "metadata": {
  "kernelspec": {
   "display_name": "anaconda-panel-2023.05-py310",
   "language": "python",
   "name": "conda-env-anaconda-panel-2023.05-py310-py"
  },
  "language_info": {
   "codemirror_mode": {
    "name": "ipython",
    "version": 3
   },
   "file_extension": ".py",
   "mimetype": "text/x-python",
   "name": "python",
   "nbconvert_exporter": "python",
   "pygments_lexer": "ipython3",
   "version": "3.11.5"
  }
 },
 "nbformat": 4,
 "nbformat_minor": 5
}
